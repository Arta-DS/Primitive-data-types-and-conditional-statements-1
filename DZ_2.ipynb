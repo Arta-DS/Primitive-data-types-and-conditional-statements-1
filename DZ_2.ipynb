{
  "nbformat": 4,
  "nbformat_minor": 0,
  "metadata": {
    "colab": {
      "provenance": [],
      "authorship_tag": "ABX9TyOS0xV/U+XQ5SAFE6jNvXuT",
      "include_colab_link": true
    },
    "kernelspec": {
      "name": "python3",
      "display_name": "Python 3"
    },
    "language_info": {
      "name": "python"
    }
  },
  "cells": [
    {
      "cell_type": "markdown",
      "metadata": {
        "id": "view-in-github",
        "colab_type": "text"
      },
      "source": [
        "<a href=\"https://colab.research.google.com/github/Arta-DS/Primitive-data-types-and-conditional-statements-1/blob/main/DZ_2.ipynb\" target=\"_parent\"><img src=\"https://colab.research.google.com/assets/colab-badge.svg\" alt=\"Open In Colab\"/></a>"
      ]
    },
    {
      "cell_type": "markdown",
      "source": [],
      "metadata": {
        "id": "p7IHAMli1aUZ"
      }
    },
    {
      "cell_type": "markdown",
      "source": [
        "Задание 1\n",
        "\n",
        "Дана переменная, в которой хранится слово из латинских букв. Напишите код, который выводит на экран:\n",
        "\n",
        "среднюю букву, если число букв в слове нечетное;\n",
        "две средних буквы, если число букв четное.\n",
        "Примеры работы программы:\n",
        "\n",
        "word = 'test'\n",
        "Результат:\n",
        "es\n",
        "\n",
        "word = 'testing'\n",
        "Результат:\n",
        "t"
      ],
      "metadata": {
        "id": "pfgpYYjx1e46"
      }
    },
    {
      "cell_type": "code",
      "execution_count": null,
      "metadata": {
        "id": "EwAV586ZrEje",
        "colab": {
          "base_uri": "https://localhost:8080/"
        },
        "outputId": "5013d967-98b7-495d-9de6-89f7f6c98331"
      },
      "outputs": [
        {
          "output_type": "stream",
          "name": "stdout",
          "text": [
            "Введите слово сироп\n",
            "р\n"
          ]
        }
      ],
      "source": [
        "# Задача 1\n",
        "word = input('Введите слово ')\n",
        "if len(word) % 2 == 1:\n",
        "    print(word[int(len(word)/2)])\n",
        "else:\n",
        "  print(word[int(len(word)/2-1)] + word[int(len(word)/2)])\n"
      ]
    },
    {
      "cell_type": "markdown",
      "source": [
        "Задание 2\n",
        "\n",
        "Напишите программу, которая последовательно запрашивает у пользователя числа (по одному за раз) и после первого нуля выводит сумму всех ранее введенных чисел.\n",
        "\n",
        "Примеры работы программы:\n",
        "1.\n",
        "\n",
        "Введите число:  \n",
        "1\n",
        "\n",
        "Введите число:  \n",
        "4\n",
        "\n",
        "Введите число:  \n",
        "6\n",
        "\n",
        "Введите число:  \n",
        "0\n",
        "Результат:\n",
        "11\n",
        "\n",
        "Введите число:  \n",
        "0\n",
        "Результат:\n",
        "0"
      ],
      "metadata": {
        "id": "hG-3Ondt1krU"
      }
    },
    {
      "cell_type": "code",
      "source": [
        "# Задача 2\n",
        "number = 0\n",
        "sum = 0\n",
        "\n",
        "while True:\n",
        "  number = int(input('Введите число '))\n",
        "  if number == 0:\n",
        "      break\n",
        "  else:\n",
        "    sum +=number\n",
        "print(sum)"
      ],
      "metadata": {
        "colab": {
          "base_uri": "https://localhost:8080/"
        },
        "id": "jFah6NihbOtn",
        "outputId": "d2c1a31e-ec35-4a08-afae-142588390c50"
      },
      "execution_count": null,
      "outputs": [
        {
          "output_type": "stream",
          "name": "stdout",
          "text": [
            "Введите число 0\n",
            "0\n"
          ]
        }
      ]
    },
    {
      "cell_type": "markdown",
      "source": [
        "Задание 3\n",
        "\n",
        "Мы делаем MVP dating-сервиса, и у нас есть список парней и девушек.\n",
        "Выдвигаем гипотезу: лучшие рекомендации мы получим, если просто отсортируем имена по алфавиту и познакомим людей с одинаковыми индексами после сортировки! Но мы не будем никого знакомить, если кто-то может остаться без пары:\n",
        "\n",
        "Примеры работы программы:\n",
        "1.\n",
        "\n",
        "boys = ['Peter', 'Alex', 'John', 'Arthur', 'Richard']\n",
        "girls = ['Kate', 'Liza', 'Kira', 'Emma', 'Trisha']\n",
        "Результат:\n",
        "\n",
        "Идеальные пары:  \n",
        "Alex и Emma  \n",
        "Arthur и Kate  \n",
        "John и Kira  \n",
        "Peter и Liza  \n",
        "Richard и Trisha\n",
        "boys = ['Peter', 'Alex', 'John', 'Arthur', 'Richard', 'Michael']\n",
        "girls = ['Kate', 'Liza', 'Kira', 'Emma', 'Trisha']\n",
        "Результат:\n",
        "Внимание, кто-то может остаться без пары!"
      ],
      "metadata": {
        "id": "yDAzCd6g1pru"
      }
    },
    {
      "cell_type": "code",
      "source": [
        "# Задание 3\n",
        "women_names = ['Kate', 'Liza', 'Kira', 'Emma', 'Trisha']\n",
        "men_names = ['Peter', 'Alex', 'John', 'Arthur', 'Richard']\n",
        "women_names.sort()\n",
        "men_names.sort()\n",
        "\n",
        "if len(women_names) == len(men_names):\n",
        "  print('Идеальные пары:\\n')\n",
        "  for w_name, m_name in zip(women_names, men_names):\n",
        "    print(f'{w_name} ' + 'и ' + m_name)\n",
        "    #print(m_name)\n",
        "    print ()\n",
        "else:\n",
        "  print('Внимание, кто-то может остаться без пары!')"
      ],
      "metadata": {
        "colab": {
          "base_uri": "https://localhost:8080/"
        },
        "id": "9ZDubU-TnXRs",
        "outputId": "4225c097-3ae9-4107-f75a-e5039cb65571"
      },
      "execution_count": null,
      "outputs": [
        {
          "output_type": "stream",
          "name": "stdout",
          "text": [
            "Внимание, кто-то может остаться без пары!\n"
          ]
        }
      ]
    },
    {
      "cell_type": "code",
      "source": [
        "# Задание 3\n",
        "women_names = ['Kate', 'Liza', 'Kira', 'Emma', 'Trisha']\n",
        "men_names = ['Peter', 'Alex', 'John', 'Arthur', 'Richard', 'Michael']\n",
        "women_names.sort()\n",
        "men_names.sort()\n",
        "\n",
        "if len(women_names) == len(men_names):\n",
        "  print('Идеальные пары:\\n')\n",
        "  for w_name, m_name in zip(women_names, men_names):\n",
        "    print(f'{w_name} ' + 'и ' + m_name)\n",
        "    #print(m_name)\n",
        "    print ()\n",
        "else:\n",
        "  print('Внимание, кто-то может остаться без пары!')\n"
      ],
      "metadata": {
        "colab": {
          "base_uri": "https://localhost:8080/"
        },
        "id": "QpohHHDlybUh",
        "outputId": "52132527-b8bc-4528-90a1-2dd4c296be83"
      },
      "execution_count": null,
      "outputs": [
        {
          "output_type": "stream",
          "name": "stdout",
          "text": [
            "Внимание, кто-то может остаться без пары!\n"
          ]
        }
      ]
    },
    {
      "cell_type": "markdown",
      "source": [
        "Задача 4\n",
        "\n",
        "У нас есть список, содержащий информацию о среднедневной температуре в Фаренгейтах за произвольный период по странам (структура данных в примере). Необходимо написать код, который рассчитает среднюю температуру за период в Цельсиях(!) для каждой страны.\n",
        "\n",
        "Пример работы программы:\n",
        "\n",
        "countries_temperature = [\n",
        "    ['Таиланд', [75.2, 77, 78.8, 73.4, 68, 75.2, 77]],\n",
        "    ['Германия', [57.2, 55.4, 59, 59, 53.6]],\n",
        "    ['Россия', [35.6, 37.4, 39.2, 41, 42.8, 39.2, 35.6]],\n",
        "    ['Польша', [50, 50, 53.6, 57.2, 55.4, 55.4]]\n",
        "]\n",
        "Результат:\n",
        "\n",
        "Средняя температура в странах:\n",
        "Таиланд  -  23.9 С\n",
        "Германия  -  13.8 С\n",
        "Россия  -  3.7 С\n",
        "Польша  -  12.0 С"
      ],
      "metadata": {
        "id": "7AY66mx0jgXO"
      }
    },
    {
      "cell_type": "code",
      "source": [
        "# Решение\n",
        "countries_temperature = [\n",
        "    ['Таиланд', [75.2, 77, 78.8, 73.4, 68, 75.2, 77]],\n",
        "    ['Германия', [57.2, 55.4, 59, 59, 53.6]],\n",
        "    ['Россия', [35.6, 37.4, 39.2, 41, 42.8, 39.2, 35.6]],\n",
        "    ['Польша', [50, 50, 53.6, 57.2, 55.4, 55.4]]\n",
        "]\n",
        "for country, temperatures in countries_temperature:\n",
        "    avg_temp_cels = sum((temp - 32) * 5/9 for temp in temperatures) / len(temperatures)\n",
        "    print(f\"Средняя температура в странах {country} {avg_temp_cels:.1f}°C\")"
      ],
      "metadata": {
        "colab": {
          "base_uri": "https://localhost:8080/"
        },
        "id": "PJHVkrzGFYBM",
        "outputId": "7ef07d55-517f-485c-a672-6f90e3841a0d"
      },
      "execution_count": null,
      "outputs": [
        {
          "output_type": "stream",
          "name": "stdout",
          "text": [
            "Средняя температура в странах Таиланд 23.9°C\n",
            "Средняя температура в странах Германия 13.8°C\n",
            "Средняя температура в странах Россия 3.7°C\n",
            "Средняя температура в странах Польша 12.0°C\n"
          ]
        }
      ]
    },
    {
      "cell_type": "markdown",
      "source": [],
      "metadata": {
        "id": "CEOgvIRb12nb"
      }
    }
  ]
}